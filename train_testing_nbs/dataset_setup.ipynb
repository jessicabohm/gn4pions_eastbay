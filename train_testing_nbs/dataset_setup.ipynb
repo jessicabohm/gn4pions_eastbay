{
 "cells": [
  {
   "cell_type": "code",
   "execution_count": 1,
   "metadata": {},
   "outputs": [],
   "source": [
    "import awkward as ak\n",
    "import uproot\n",
    "import numpy as np\n",
    "import matplotlib.pyplot as plt\n",
    "import glob\n",
    "import sys\n",
    "sys.path.append('/home/jbohm/start_tf/gn4pions_eastbay/')\n",
    "from gn4pions.modules.data import GraphDataGenerator"
   ]
  },
  {
   "cell_type": "code",
   "execution_count": 3,
   "metadata": {},
   "outputs": [
    {
     "ename": "KeyboardInterrupt",
     "evalue": "",
     "output_type": "error",
     "traceback": [
      "\u001b[0;31m---------------------------------------------------------------------------\u001b[0m",
      "\u001b[0;31mKeyboardInterrupt\u001b[0m                         Traceback (most recent call last)",
      "\u001b[1;32m/home/jbohm/start_tf/gn4pions_eastbay/train_testing_nbs/dataset_setup.ipynb Cell 2\u001b[0m in \u001b[0;36m<cell line: 3>\u001b[0;34m()\u001b[0m\n\u001b[1;32m      <a href='vscode-notebook-cell://ssh-remote%2Btriumf-ml1.phas.ubc.ca/home/jbohm/start_tf/gn4pions_eastbay/train_testing_nbs/dataset_setup.ipynb#W1sdnNjb2RlLXJlbW90ZQ%3D%3D?line=0'>1</a>\u001b[0m \u001b[39m# files of 400,000 events to make pi+/-/0 dataset\u001b[39;00m\n\u001b[1;32m      <a href='vscode-notebook-cell://ssh-remote%2Btriumf-ml1.phas.ubc.ca/home/jbohm/start_tf/gn4pions_eastbay/train_testing_nbs/dataset_setup.ipynb#W1sdnNjb2RlLXJlbW90ZQ%3D%3D?line=1'>2</a>\u001b[0m pipm_file_1 \u001b[39m=\u001b[39m uproot\u001b[39m.\u001b[39mopen(\u001b[39m\"\u001b[39m\u001b[39m/data/atlas/data/allCellTruthv1/pipm/user.mswiatlo.27153452.OutputStream._000001.root:EventTree\u001b[39m\u001b[39m\"\u001b[39m)\u001b[39m.\u001b[39marrays(library\u001b[39m=\u001b[39m\u001b[39m\"\u001b[39m\u001b[39mnp\u001b[39m\u001b[39m\"\u001b[39m)\n\u001b[0;32m----> <a href='vscode-notebook-cell://ssh-remote%2Btriumf-ml1.phas.ubc.ca/home/jbohm/start_tf/gn4pions_eastbay/train_testing_nbs/dataset_setup.ipynb#W1sdnNjb2RlLXJlbW90ZQ%3D%3D?line=2'>3</a>\u001b[0m pipm_file_2 \u001b[39m=\u001b[39m uproot\u001b[39m.\u001b[39;49mopen(\u001b[39m\"\u001b[39;49m\u001b[39m/data/atlas/data/allCellTruthv1/pipm/user.mswiatlo.27153452.OutputStream._000014.root:EventTree\u001b[39;49m\u001b[39m\"\u001b[39;49m)\u001b[39m.\u001b[39;49marrays(library\u001b[39m=\u001b[39;49m\u001b[39m\"\u001b[39;49m\u001b[39mnp\u001b[39;49m\u001b[39m\"\u001b[39;49m)\n",
      "File \u001b[0;32m/usr/local/lib/python3.8/dist-packages/uproot/behaviors/TBranch.py:1257\u001b[0m, in \u001b[0;36mHasBranches.arrays\u001b[0;34m(self, expressions, cut, filter_name, filter_typename, filter_branch, aliases, language, entry_start, entry_stop, decompression_executor, interpretation_executor, array_cache, library, how)\u001b[0m\n\u001b[1;32m   1251\u001b[0m             \u001b[39mfor\u001b[39;00m (\n\u001b[1;32m   1252\u001b[0m                 basket_num,\n\u001b[1;32m   1253\u001b[0m                 range_or_basket,\n\u001b[1;32m   1254\u001b[0m             ) \u001b[39min\u001b[39;00m branch\u001b[39m.\u001b[39mentries_to_ranges_or_baskets(entry_start, entry_stop):\n\u001b[1;32m   1255\u001b[0m                 ranges_or_baskets\u001b[39m.\u001b[39mappend((branch, basket_num, range_or_basket))\n\u001b[0;32m-> 1257\u001b[0m _ranges_or_baskets_to_arrays(\n\u001b[1;32m   1258\u001b[0m     \u001b[39mself\u001b[39;49m,\n\u001b[1;32m   1259\u001b[0m     ranges_or_baskets,\n\u001b[1;32m   1260\u001b[0m     branchid_interpretation,\n\u001b[1;32m   1261\u001b[0m     entry_start,\n\u001b[1;32m   1262\u001b[0m     entry_stop,\n\u001b[1;32m   1263\u001b[0m     decompression_executor,\n\u001b[1;32m   1264\u001b[0m     interpretation_executor,\n\u001b[1;32m   1265\u001b[0m     library,\n\u001b[1;32m   1266\u001b[0m     arrays,\n\u001b[1;32m   1267\u001b[0m     \u001b[39mFalse\u001b[39;49;00m,\n\u001b[1;32m   1268\u001b[0m )\n\u001b[1;32m   1270\u001b[0m \u001b[39m# no longer needed; save memory\u001b[39;00m\n\u001b[1;32m   1271\u001b[0m \u001b[39mdel\u001b[39;00m ranges_or_baskets\n",
      "File \u001b[0;32m/usr/local/lib/python3.8/dist-packages/uproot/behaviors/TBranch.py:3486\u001b[0m, in \u001b[0;36m_ranges_or_baskets_to_arrays\u001b[0;34m(hasbranches, ranges_or_baskets, branchid_interpretation, entry_start, entry_stop, decompression_executor, interpretation_executor, library, arrays, update_ranges_or_baskets)\u001b[0m\n\u001b[1;32m   3484\u001b[0m \u001b[39mif\u001b[39;00m \u001b[39misinstance\u001b[39m(obj, uproot\u001b[39m.\u001b[39msource\u001b[39m.\u001b[39mchunk\u001b[39m.\u001b[39mChunk):\n\u001b[1;32m   3485\u001b[0m     args \u001b[39m=\u001b[39m range_args[(obj\u001b[39m.\u001b[39mstart, obj\u001b[39m.\u001b[39mstop)]\n\u001b[0;32m-> 3486\u001b[0m     decompression_executor\u001b[39m.\u001b[39;49msubmit(chunk_to_basket, obj, \u001b[39m*\u001b[39;49margs)\n\u001b[1;32m   3488\u001b[0m \u001b[39melif\u001b[39;00m \u001b[39misinstance\u001b[39m(obj, uproot\u001b[39m.\u001b[39mmodels\u001b[39m.\u001b[39mTBasket\u001b[39m.\u001b[39mModel_TBasket):\n\u001b[1;32m   3489\u001b[0m     interpretation_executor\u001b[39m.\u001b[39msubmit(basket_to_array, obj)\n",
      "File \u001b[0;32m/usr/local/lib/python3.8/dist-packages/uproot/source/futures.py:73\u001b[0m, in \u001b[0;36mTrivialExecutor.submit\u001b[0;34m(self, task, *args)\u001b[0m\n\u001b[1;32m     69\u001b[0m \u001b[39mdef\u001b[39;00m \u001b[39msubmit\u001b[39m(\u001b[39mself\u001b[39m, task, \u001b[39m*\u001b[39margs):\n\u001b[1;32m     70\u001b[0m     \u001b[39m\"\"\"\u001b[39;00m\n\u001b[1;32m     71\u001b[0m \u001b[39m    Immediately runs ``task(*args)``.\u001b[39;00m\n\u001b[1;32m     72\u001b[0m \u001b[39m    \"\"\"\u001b[39;00m\n\u001b[0;32m---> 73\u001b[0m     \u001b[39mreturn\u001b[39;00m TrivialFuture(task(\u001b[39m*\u001b[39;49margs))\n",
      "File \u001b[0;32m/usr/local/lib/python3.8/dist-packages/uproot/behaviors/TBranch.py:3416\u001b[0m, in \u001b[0;36m_ranges_or_baskets_to_arrays.<locals>.chunk_to_basket\u001b[0;34m(chunk, branch, basket_num)\u001b[0m\n\u001b[1;32m   3414\u001b[0m \u001b[39mtry\u001b[39;00m:\n\u001b[1;32m   3415\u001b[0m     cursor \u001b[39m=\u001b[39m uproot\u001b[39m.\u001b[39msource\u001b[39m.\u001b[39mcursor\u001b[39m.\u001b[39mCursor(chunk\u001b[39m.\u001b[39mstart)\n\u001b[0;32m-> 3416\u001b[0m     basket \u001b[39m=\u001b[39m uproot\u001b[39m.\u001b[39;49mmodels\u001b[39m.\u001b[39;49mTBasket\u001b[39m.\u001b[39;49mModel_TBasket\u001b[39m.\u001b[39;49mread(\n\u001b[1;32m   3417\u001b[0m         chunk,\n\u001b[1;32m   3418\u001b[0m         cursor,\n\u001b[1;32m   3419\u001b[0m         {\u001b[39m\"\u001b[39;49m\u001b[39mbasket_num\u001b[39;49m\u001b[39m\"\u001b[39;49m: basket_num},\n\u001b[1;32m   3420\u001b[0m         hasbranches\u001b[39m.\u001b[39;49m_file,\n\u001b[1;32m   3421\u001b[0m         hasbranches\u001b[39m.\u001b[39;49m_file,\n\u001b[1;32m   3422\u001b[0m         branch,\n\u001b[1;32m   3423\u001b[0m     )\n\u001b[1;32m   3424\u001b[0m     original_index \u001b[39m=\u001b[39m range_original_index[(chunk\u001b[39m.\u001b[39mstart, chunk\u001b[39m.\u001b[39mstop)]\n\u001b[1;32m   3425\u001b[0m     \u001b[39mif\u001b[39;00m update_ranges_or_baskets:\n",
      "File \u001b[0;32m/usr/local/lib/python3.8/dist-packages/uproot/model.py:806\u001b[0m, in \u001b[0;36mModel.read\u001b[0;34m(cls, chunk, cursor, context, file, selffile, parent, concrete)\u001b[0m\n\u001b[1;32m    801\u001b[0m \u001b[39mif\u001b[39;00m context\u001b[39m.\u001b[39mget(\u001b[39m\"\u001b[39m\u001b[39mreading\u001b[39m\u001b[39m\"\u001b[39m, \u001b[39mTrue\u001b[39;00m):\n\u001b[1;32m    802\u001b[0m     \u001b[39mself\u001b[39m\u001b[39m.\u001b[39mhook_before_read_members(\n\u001b[1;32m    803\u001b[0m         chunk\u001b[39m=\u001b[39mchunk, cursor\u001b[39m=\u001b[39mcursor, context\u001b[39m=\u001b[39mcontext, file\u001b[39m=\u001b[39mfile\n\u001b[1;32m    804\u001b[0m     )\n\u001b[0;32m--> 806\u001b[0m     \u001b[39mself\u001b[39;49m\u001b[39m.\u001b[39;49mread_members(chunk, cursor, context, file)\n\u001b[1;32m    808\u001b[0m     \u001b[39mself\u001b[39m\u001b[39m.\u001b[39mhook_after_read_members(\n\u001b[1;32m    809\u001b[0m         chunk\u001b[39m=\u001b[39mchunk, cursor\u001b[39m=\u001b[39mcursor, context\u001b[39m=\u001b[39mcontext, file\u001b[39m=\u001b[39mfile\n\u001b[1;32m    810\u001b[0m     )\n\u001b[1;32m    812\u001b[0m \u001b[39mself\u001b[39m\u001b[39m.\u001b[39mcheck_numbytes(chunk, cursor, context)\n",
      "File \u001b[0;32m/usr/local/lib/python3.8/dist-packages/uproot/models/TBasket.py:283\u001b[0m, in \u001b[0;36mModel_TBasket.read_members\u001b[0;34m(self, chunk, cursor, context, file)\u001b[0m\n\u001b[1;32m    281\u001b[0m \u001b[39mif\u001b[39;00m compressed_bytes \u001b[39m!=\u001b[39m uncompressed_bytes:\n\u001b[1;32m    282\u001b[0m     \u001b[39mself\u001b[39m\u001b[39m.\u001b[39m_block_compression_info \u001b[39m=\u001b[39m []\n\u001b[0;32m--> 283\u001b[0m     uncompressed \u001b[39m=\u001b[39m uproot\u001b[39m.\u001b[39;49mcompression\u001b[39m.\u001b[39;49mdecompress(\n\u001b[1;32m    284\u001b[0m         chunk,\n\u001b[1;32m    285\u001b[0m         cursor,\n\u001b[1;32m    286\u001b[0m         {},\n\u001b[1;32m    287\u001b[0m         compressed_bytes,\n\u001b[1;32m    288\u001b[0m         uncompressed_bytes,\n\u001b[1;32m    289\u001b[0m         \u001b[39mself\u001b[39;49m\u001b[39m.\u001b[39;49m_block_compression_info,\n\u001b[1;32m    290\u001b[0m     )\n\u001b[1;32m    291\u001b[0m     \u001b[39mself\u001b[39m\u001b[39m.\u001b[39m_block_compression_info \u001b[39m=\u001b[39m \u001b[39mtuple\u001b[39m(\u001b[39mself\u001b[39m\u001b[39m.\u001b[39m_block_compression_info)\n\u001b[1;32m    292\u001b[0m     \u001b[39mself\u001b[39m\u001b[39m.\u001b[39m_raw_data \u001b[39m=\u001b[39m uncompressed\u001b[39m.\u001b[39mget(\n\u001b[1;32m    293\u001b[0m         \u001b[39m0\u001b[39m,\n\u001b[1;32m    294\u001b[0m         uncompressed_bytes,\n\u001b[1;32m    295\u001b[0m         uproot\u001b[39m.\u001b[39msource\u001b[39m.\u001b[39mcursor\u001b[39m.\u001b[39mCursor(\u001b[39m0\u001b[39m),\n\u001b[1;32m    296\u001b[0m         context,\n\u001b[1;32m    297\u001b[0m     )\n",
      "File \u001b[0;32m/usr/local/lib/python3.8/dist-packages/uproot/compression.py:446\u001b[0m, in \u001b[0;36mdecompress\u001b[0;34m(chunk, cursor, context, compressed_bytes, uncompressed_bytes, block_info)\u001b[0m\n\u001b[1;32m    441\u001b[0m     \u001b[39melse\u001b[39;00m:\n\u001b[1;32m    442\u001b[0m         output \u001b[39m=\u001b[39m numpy\u001b[39m.\u001b[39mempty(\n\u001b[1;32m    443\u001b[0m             uncompressed_bytes, dtype\u001b[39m=\u001b[39muproot\u001b[39m.\u001b[39msource\u001b[39m.\u001b[39mchunk\u001b[39m.\u001b[39mChunk\u001b[39m.\u001b[39m_dtype\n\u001b[1;32m    444\u001b[0m         )\n\u001b[0;32m--> 446\u001b[0m output[filled : filled \u001b[39m+\u001b[39;49m block_uncompressed_bytes] \u001b[39m=\u001b[39m uncompressed_array\n\u001b[1;32m    447\u001b[0m filled \u001b[39m+\u001b[39m\u001b[39m=\u001b[39m block_uncompressed_bytes\n\u001b[1;32m    448\u001b[0m num_blocks \u001b[39m+\u001b[39m\u001b[39m=\u001b[39m \u001b[39m1\u001b[39m\n",
      "\u001b[0;31mKeyboardInterrupt\u001b[0m: "
     ]
    }
   ],
   "source": [
    "# files of 400,000 events to make pi+/-/0 dataset\n",
    "pipm_file_1 = uproot.open(\"/data/atlas/data/allCellTruthv1/pipm/user.mswiatlo.27153452.OutputStream._000001.root:EventTree\").arrays(library=\"np\")\n",
    "pipm_file_2 = uproot.open(\"/data/atlas/data/allCellTruthv1/pipm/user.mswiatlo.27153452.OutputStream._000014.root:EventTree\").arrays(library=\"np\")\n",
    "#pi0_file = uproot.open(\"/data/atlas/data/allCellTruthv1/pi0/user.mswiatlo.27153451.OutputStream._000014.root:EventTree\").arrays(library=\"np\") # 6min to load"
   ]
  },
  {
   "cell_type": "code",
   "execution_count": 4,
   "metadata": {},
   "outputs": [
    {
     "name": "stdout",
     "output_type": "stream",
     "text": [
      "400000\n",
      "400000\n",
      "400000\n"
     ]
    }
   ],
   "source": [
    "print(len(pipm_file_1[\"eventNumber\"]))\n",
    "print(len(pipm_file_2[\"eventNumber\"]))\n",
    "print(len(pi0_file[\"eventNumber\"]))"
   ]
  },
  {
   "cell_type": "code",
   "execution_count": 7,
   "metadata": {},
   "outputs": [
    {
     "name": "stdout",
     "output_type": "stream",
     "text": [
      "200.0\n"
     ]
    }
   ],
   "source": [
    "print(len(pi0_file[\"truthPartPdgId\"]) / 2000)"
   ]
  },
  {
   "cell_type": "code",
   "execution_count": 8,
   "metadata": {},
   "outputs": [
    {
     "ename": "OSError",
     "evalue": "[Errno 28] No space left on device",
     "output_type": "error",
     "traceback": [
      "\u001b[0;31m---------------------------------------------------------------------------\u001b[0m",
      "\u001b[0;31mOSError\u001b[0m                                   Traceback (most recent call last)",
      "\u001b[1;32m/home/jbohm/start_tf/gn4pions_eastbay/train_testing_nbs/dataset_setup.ipynb Cell 5\u001b[0m in \u001b[0;36m<cell line: 7>\u001b[0;34m()\u001b[0m\n\u001b[1;32m     <a href='vscode-notebook-cell://ssh-remote%2Btriumf-ml1.phas.ubc.ca/home/jbohm/start_tf/gn4pions_eastbay/train_testing_nbs/dataset_setup.ipynb#W2sdnNjb2RlLXJlbW90ZQ%3D%3D?line=10'>11</a>\u001b[0m     pion_data[key] \u001b[39m=\u001b[39m np\u001b[39m.\u001b[39mzeros(\u001b[39m6000\u001b[39m, dtype\u001b[39m=\u001b[39m\u001b[39mobject\u001b[39m)\n\u001b[1;32m     <a href='vscode-notebook-cell://ssh-remote%2Btriumf-ml1.phas.ubc.ca/home/jbohm/start_tf/gn4pions_eastbay/train_testing_nbs/dataset_setup.ipynb#W2sdnNjb2RlLXJlbW90ZQ%3D%3D?line=11'>12</a>\u001b[0m     pion_data[key][event_data_indicies] \u001b[39m=\u001b[39m np\u001b[39m.\u001b[39mconcatenate((pi0_file[key][file_indicies[i\u001b[39m*\u001b[39m\u001b[39m2000\u001b[39m:(i\u001b[39m+\u001b[39m\u001b[39m1\u001b[39m)\u001b[39m*\u001b[39m\u001b[39m2000\u001b[39m]], pipm_file_1[key][file_indicies[i\u001b[39m*\u001b[39m\u001b[39m2000\u001b[39m:(i\u001b[39m+\u001b[39m\u001b[39m1\u001b[39m)\u001b[39m*\u001b[39m\u001b[39m2000\u001b[39m]], pipm_file_2[key][file_indicies[i\u001b[39m*\u001b[39m\u001b[39m2000\u001b[39m:(i\u001b[39m+\u001b[39m\u001b[39m1\u001b[39m)\u001b[39m*\u001b[39m\u001b[39m2000\u001b[39m]]))\n\u001b[0;32m---> <a href='vscode-notebook-cell://ssh-remote%2Btriumf-ml1.phas.ubc.ca/home/jbohm/start_tf/gn4pions_eastbay/train_testing_nbs/dataset_setup.ipynb#W2sdnNjb2RlLXJlbW90ZQ%3D%3D?line=13'>14</a>\u001b[0m np\u001b[39m.\u001b[39;49msave(\u001b[39m\"\u001b[39;49m\u001b[39m../train_testing_data/train_2/pion_files/pion_mix_6000_\u001b[39;49m\u001b[39m\"\u001b[39;49m \u001b[39m+\u001b[39;49m \u001b[39mstr\u001b[39;49m(\u001b[39m200\u001b[39;49m \u001b[39m+\u001b[39;49m i), pion_data, allow_pickle\u001b[39m=\u001b[39;49m\u001b[39mTrue\u001b[39;49;00m)\n",
      "File \u001b[0;32m<__array_function__ internals>:180\u001b[0m, in \u001b[0;36msave\u001b[0;34m(*args, **kwargs)\u001b[0m\n",
      "File \u001b[0;32m~/.local/lib/python3.8/site-packages/numpy/lib/npyio.py:502\u001b[0m, in \u001b[0;36msave\u001b[0;34m(file, arr, allow_pickle, fix_imports)\u001b[0m\n\u001b[1;32m    500\u001b[0m \u001b[39mwith\u001b[39;00m file_ctx \u001b[39mas\u001b[39;00m fid:\n\u001b[1;32m    501\u001b[0m     arr \u001b[39m=\u001b[39m np\u001b[39m.\u001b[39masanyarray(arr)\n\u001b[0;32m--> 502\u001b[0m     \u001b[39mformat\u001b[39;49m\u001b[39m.\u001b[39;49mwrite_array(fid, arr, allow_pickle\u001b[39m=\u001b[39;49mallow_pickle,\n\u001b[1;32m    503\u001b[0m                        pickle_kwargs\u001b[39m=\u001b[39;49m\u001b[39mdict\u001b[39;49m(fix_imports\u001b[39m=\u001b[39;49mfix_imports))\n",
      "File \u001b[0;32m~/.local/lib/python3.8/site-packages/numpy/lib/format.py:678\u001b[0m, in \u001b[0;36mwrite_array\u001b[0;34m(fp, array, version, allow_pickle, pickle_kwargs)\u001b[0m\n\u001b[1;32m    676\u001b[0m     \u001b[39mif\u001b[39;00m pickle_kwargs \u001b[39mis\u001b[39;00m \u001b[39mNone\u001b[39;00m:\n\u001b[1;32m    677\u001b[0m         pickle_kwargs \u001b[39m=\u001b[39m {}\n\u001b[0;32m--> 678\u001b[0m     pickle\u001b[39m.\u001b[39;49mdump(array, fp, protocol\u001b[39m=\u001b[39;49m\u001b[39m3\u001b[39;49m, \u001b[39m*\u001b[39;49m\u001b[39m*\u001b[39;49mpickle_kwargs)\n\u001b[1;32m    679\u001b[0m \u001b[39melif\u001b[39;00m array\u001b[39m.\u001b[39mflags\u001b[39m.\u001b[39mf_contiguous \u001b[39mand\u001b[39;00m \u001b[39mnot\u001b[39;00m array\u001b[39m.\u001b[39mflags\u001b[39m.\u001b[39mc_contiguous:\n\u001b[1;32m    680\u001b[0m     \u001b[39mif\u001b[39;00m isfileobj(fp):\n",
      "\u001b[0;31mOSError\u001b[0m: [Errno 28] No space left on device"
     ]
    }
   ],
   "source": [
    "# split up data and save to npy files of 6000 events (2000 pi0, 4000 pi+/-)\n",
    "file_indicies = np.arange(len(pi0_file[\"truthPartPdgId\"]))\n",
    "event_data_indicies = np.arange(6000)\n",
    "np.random.seed(0)\n",
    "np.random.shuffle(file_indicies)\n",
    "\n",
    "for i in range(200):\n",
    "    np.random.shuffle(event_data_indicies)\n",
    "    pion_data = {}\n",
    "    for key in pipm_file_1:\n",
    "        pion_data[key] = np.zeros(6000, dtype=object)\n",
    "        pion_data[key][event_data_indicies] = np.concatenate((pi0_file[key][file_indicies[i*2000:(i+1)*2000]], pipm_file_1[key][file_indicies[i*2000:(i+1)*2000]], pipm_file_2[key][file_indicies[i*2000:(i+1)*2000]]))\n",
    "\n",
    "    np.save(\"../train_testing_data/train_2/pion_files/pion_mix_6000_\" + str(200 + i), pion_data, allow_pickle=True)\n",
    "\n",
    "# estimated time 16 min - 6s / file\n"
   ]
  },
  {
   "cell_type": "code",
   "execution_count": 3,
   "metadata": {},
   "outputs": [
    {
     "name": "stdout",
     "output_type": "stream",
     "text": [
      "['./train_2/pion_files/pion_mix_6000_161.npy', './train_2/pion_files/pion_mix_6000_162.npy', './train_2/pion_files/pion_mix_6000_163.npy', './train_2/pion_files/pion_mix_6000_164.npy', './train_2/pion_files/pion_mix_6000_165.npy', './train_2/pion_files/pion_mix_6000_166.npy', './train_2/pion_files/pion_mix_6000_167.npy', './train_2/pion_files/pion_mix_6000_168.npy', './train_2/pion_files/pion_mix_6000_169.npy', './train_2/pion_files/pion_mix_6000_170.npy', './train_2/pion_files/pion_mix_6000_171.npy', './train_2/pion_files/pion_mix_6000_172.npy', './train_2/pion_files/pion_mix_6000_173.npy', './train_2/pion_files/pion_mix_6000_174.npy', './train_2/pion_files/pion_mix_6000_175.npy', './train_2/pion_files/pion_mix_6000_176.npy', './train_2/pion_files/pion_mix_6000_177.npy', './train_2/pion_files/pion_mix_6000_178.npy', './train_2/pion_files/pion_mix_6000_179.npy', './train_2/pion_files/pion_mix_6000_180.npy', './train_2/pion_files/pion_mix_6000_181.npy', './train_2/pion_files/pion_mix_6000_182.npy', './train_2/pion_files/pion_mix_6000_183.npy', './train_2/pion_files/pion_mix_6000_184.npy', './train_2/pion_files/pion_mix_6000_185.npy', './train_2/pion_files/pion_mix_6000_186.npy', './train_2/pion_files/pion_mix_6000_187.npy', './train_2/pion_files/pion_mix_6000_188.npy', './train_2/pion_files/pion_mix_6000_189.npy', './train_2/pion_files/pion_mix_6000_190.npy', './train_2/pion_files/pion_mix_6000_191.npy', './train_2/pion_files/pion_mix_6000_192.npy', './train_2/pion_files/pion_mix_6000_193.npy', './train_2/pion_files/pion_mix_6000_194.npy', './train_2/pion_files/pion_mix_6000_195.npy', './train_2/pion_files/pion_mix_6000_196.npy', './train_2/pion_files/pion_mix_6000_197.npy', './train_2/pion_files/pion_mix_6000_198.npy', './train_2/pion_files/pion_mix_6000_199.npy']\n"
     ]
    }
   ],
   "source": [
    "# preprocess the data files\n",
    "# use 0 - 149 for training and 150 - 200 for validation\n",
    "data_dir = \"./train_2/\"\n",
    "output_dir = \"./train_2\"\n",
    "train_output_dir = output_dir + '/train/'\n",
    "val_output_dir = output_dir + '/val/'\n",
    "\n",
    "def get_file_names(low, high):\n",
    "    return list(map(lambda x: \"./train_2/pion_files/pion_mix_6000_\" + str(x) + \".npy\", np.arange(low, high + 1)))\n",
    "\n",
    "pion_files = get_file_names(161, 199)\n",
    "print(pion_files)\n",
    "\n",
    "# val: set1: 150 - 200, set2:\n",
    "# train: set1: 0 - 149, set2:"
   ]
  },
  {
   "cell_type": "code",
   "execution_count": 4,
   "metadata": {},
   "outputs": [
    {
     "name": "stdout",
     "output_type": "stream",
     "text": [
      "\n",
      "Preprocessing and saving data to ./train_2/val/\n",
      "Processing file number 0\n",
      "Processing file number 1\n",
      "Processing file number 2\n",
      "Processing file number 3\n",
      "Processing file number 4\n",
      "Processing file number 5\n",
      "Processing file number 6\n",
      "Processing file number 7\n",
      "Processing file number 8\n",
      "Processing file number 9\n",
      "Finished processing 7 files\n",
      "Processing file number 17\n",
      "Finished processing 1 files\n",
      "Processing file number 11\n",
      "Finished processing 0 files\n",
      "Processing file number 10\n",
      "Finished processing 8 files\n",
      "Processing file number 18\n",
      "Finished processing 6 files\n",
      "Processing file number 16\n",
      "Finished processing 4 files\n",
      "Processing file number 14\n",
      "Finished processing 3 files\n",
      "Processing file number 13\n",
      "Finished processing 2 files\n",
      "Processing file number 12\n",
      "Finished processing 5 files\n",
      "Processing file number 15\n",
      "Finished processing 9 files\n",
      "Processing file number 19\n",
      "Finished processing 17 files\n",
      "Processing file number 27\n",
      "Finished processing 10 files\n",
      "Processing file number 20\n",
      "Finished processing 11 files\n",
      "Processing file number 21\n",
      "Finished processing 18 files\n",
      "Processing file number 28\n",
      "Finished processing 13 files\n",
      "Processing file number 23\n",
      "Finished processing 12 files\n",
      "Processing file number 22\n",
      "Finished processing 14 files\n",
      "Processing file number 24\n",
      "Finished processing 19 files\n",
      "Processing file number 29\n",
      "Finished processing 16 files\n",
      "Processing file number 26\n",
      "Finished processing 15 files\n",
      "Processing file number 25\n",
      "Finished processing 20 files\n",
      "Processing file number 30\n",
      "Finished processing 27 files\n",
      "Processing file number 37\n",
      "Finished processing 21 files\n",
      "Processing file number 31\n",
      "Finished processing 28 files\n",
      "Processing file number 38\n",
      "Finished processing 26 files\n",
      "Processing file number 36\n",
      "Finished processing 24 files\n",
      "Processing file number 34\n",
      "Finished processing 22 files\n",
      "Processing file number 32\n",
      "Finished processing 23 files\n",
      "Processing file number 33\n",
      "Finished processing 29 files\n",
      "Finished processing 25 files\n",
      "Processing file number 35\n",
      "Finished processing 37 files\n",
      "Finished processing 30 files\n",
      "Finished processing 32 files\n",
      "Finished processing 36 files\n",
      "Finished processing 38 files\n",
      "Finished processing 31 files\n",
      "Finished processing 34 files\n",
      "Finished processing 33 files\n",
      "Finished processing 35 files\n"
     ]
    },
    {
     "data": {
      "text/plain": [
       "<gn4pions.modules.data.GraphDataGenerator at 0x7fdaf0119f10>"
      ]
     },
     "execution_count": 4,
     "metadata": {},
     "output_type": "execute_result"
    }
   ],
   "source": [
    "GraphDataGenerator(pi0_file_list=None,\n",
    "    pion_file_list=pion_files,\n",
    "    cellGeo_file=\"/data/atlas/data/allCellTruthv1/pi0/user.mswiatlo.27153451.OutputStream._000001.root\",\n",
    "    batch_size=100, \n",
    "    shuffle=False,\n",
    "    num_procs=10,\n",
    "    preprocess=True,\n",
    "    output_dir=val_output_dir)"
   ]
  }
 ],
 "metadata": {
  "kernelspec": {
   "display_name": "Python 3",
   "language": "python",
   "name": "python3"
  },
  "language_info": {
   "codemirror_mode": {
    "name": "ipython",
    "version": 3
   },
   "file_extension": ".py",
   "mimetype": "text/x-python",
   "name": "python",
   "nbconvert_exporter": "python",
   "pygments_lexer": "ipython3",
   "version": "3.8.10"
  },
  "orig_nbformat": 4,
  "vscode": {
   "interpreter": {
    "hash": "31f2aee4e71d21fbe5cf8b01ff0e069b9275f58929596ceb00d14d90e3e16cd6"
   }
  }
 },
 "nbformat": 4,
 "nbformat_minor": 2
}
