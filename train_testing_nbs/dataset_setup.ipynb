{
 "cells": [
  {
   "cell_type": "code",
   "execution_count": 1,
   "metadata": {},
   "outputs": [],
   "source": [
    "import awkward as ak\n",
    "import uproot\n",
    "import numpy as np\n",
    "import matplotlib.pyplot as plt\n",
    "import glob\n",
    "import sys\n",
    "sys.path.append('/home/jbohm/start_tf/gn4pions_eastbay/')\n",
    "from gn4pions.modules.data import GraphDataGenerator"
   ]
  },
  {
   "cell_type": "code",
   "execution_count": null,
   "metadata": {},
   "outputs": [],
   "source": [
    "# files of 400,000 events to make pi+/-/0 dataset\n",
    "pipm_file_1 = uproot.open(\"/data/atlas/data/allCellTruthv1/pipm/user.mswiatlo.27153452.OutputStream._000011.root:EventTree\").arrays(library=\"np\")\n",
    "pipm_file_2 = uproot.open(\"/data/atlas/data/allCellTruthv1/pipm/user.mswiatlo.27153452.OutputStream._000012.root:EventTree\").arrays(library=\"np\")\n",
    "pi0_file = uproot.open(\"/data/atlas/data/allCellTruthv1/pi0/user.mswiatlo.27153451.OutputStream._000013.root:EventTree\").arrays(library=\"np\") # 6min to load"
   ]
  },
  {
   "cell_type": "code",
   "execution_count": 7,
   "metadata": {},
   "outputs": [],
   "source": [
    "# split up data and save to npy files of 6000 events (2000 pi0, 4000 pi+/-)\n",
    "file_indicies = np.arange(len(pi0_file[\"truthPartPdgId\"]))\n",
    "event_data_indicies = np.arange(6000)\n",
    "np.random.seed(0)\n",
    "np.random.shuffle(file_indicies)\n",
    "\n",
    "for i in range(1):#range(len(pi0_file[\"truthPartPdgId\"]) / 2000):\n",
    "    np.random.shuffle(event_data_indicies)\n",
    "    pion_data = {}\n",
    "    for key in pipm_file_1:\n",
    "        pion_data[key] = np.zeros(6000, dtype=object)\n",
    "        pion_data[key][event_data_indicies] = np.concatenate((pi0_file[key][file_indicies[i*2000:(i+1)*2000]], pipm_file_1[key][file_indicies[i*2000:(i+1)*2000]], pipm_file_2[key][file_indicies[i*2000:(i+1)*2000]]))\n",
    "\n",
    "    np.save(\"./train_2/pion_files/pion_mix_6000_\" + str(i), pion_data, allow_pickle=True)\n",
    "\n",
    "# estimated time 16 min - 6s / file\n"
   ]
  },
  {
   "cell_type": "code",
   "execution_count": 3,
   "metadata": {},
   "outputs": [
    {
     "name": "stdout",
     "output_type": "stream",
     "text": [
      "['./train_2/pion_files/pion_mix_6000_161.npy', './train_2/pion_files/pion_mix_6000_162.npy', './train_2/pion_files/pion_mix_6000_163.npy', './train_2/pion_files/pion_mix_6000_164.npy', './train_2/pion_files/pion_mix_6000_165.npy', './train_2/pion_files/pion_mix_6000_166.npy', './train_2/pion_files/pion_mix_6000_167.npy', './train_2/pion_files/pion_mix_6000_168.npy', './train_2/pion_files/pion_mix_6000_169.npy', './train_2/pion_files/pion_mix_6000_170.npy', './train_2/pion_files/pion_mix_6000_171.npy', './train_2/pion_files/pion_mix_6000_172.npy', './train_2/pion_files/pion_mix_6000_173.npy', './train_2/pion_files/pion_mix_6000_174.npy', './train_2/pion_files/pion_mix_6000_175.npy', './train_2/pion_files/pion_mix_6000_176.npy', './train_2/pion_files/pion_mix_6000_177.npy', './train_2/pion_files/pion_mix_6000_178.npy', './train_2/pion_files/pion_mix_6000_179.npy', './train_2/pion_files/pion_mix_6000_180.npy', './train_2/pion_files/pion_mix_6000_181.npy', './train_2/pion_files/pion_mix_6000_182.npy', './train_2/pion_files/pion_mix_6000_183.npy', './train_2/pion_files/pion_mix_6000_184.npy', './train_2/pion_files/pion_mix_6000_185.npy', './train_2/pion_files/pion_mix_6000_186.npy', './train_2/pion_files/pion_mix_6000_187.npy', './train_2/pion_files/pion_mix_6000_188.npy', './train_2/pion_files/pion_mix_6000_189.npy', './train_2/pion_files/pion_mix_6000_190.npy', './train_2/pion_files/pion_mix_6000_191.npy', './train_2/pion_files/pion_mix_6000_192.npy', './train_2/pion_files/pion_mix_6000_193.npy', './train_2/pion_files/pion_mix_6000_194.npy', './train_2/pion_files/pion_mix_6000_195.npy', './train_2/pion_files/pion_mix_6000_196.npy', './train_2/pion_files/pion_mix_6000_197.npy', './train_2/pion_files/pion_mix_6000_198.npy', './train_2/pion_files/pion_mix_6000_199.npy']\n"
     ]
    }
   ],
   "source": [
    "# preprocess the data files\n",
    "# use 0 - 149 for training and 150 - 200 for validation\n",
    "data_dir = \"./train_2/\"\n",
    "output_dir = \"./train_2\"\n",
    "train_output_dir = output_dir + '/train/'\n",
    "val_output_dir = output_dir + '/val/'\n",
    "\n",
    "def get_file_names(low, high):\n",
    "    return list(map(lambda x: \"./train_2/pion_files/pion_mix_6000_\" + str(x) + \".npy\", np.arange(low, high + 1)))\n",
    "\n",
    "pion_files = get_file_names(161, 199)\n",
    "print(pion_files)\n",
    "\n",
    "# val: 150 - 160\n",
    "# train: 0 - 149"
   ]
  },
  {
   "cell_type": "code",
   "execution_count": 4,
   "metadata": {},
   "outputs": [
    {
     "name": "stdout",
     "output_type": "stream",
     "text": [
      "\n",
      "Preprocessing and saving data to ./train_2/val/\n",
      "Processing file number 0\n",
      "Processing file number 1\n",
      "Processing file number 2\n",
      "Processing file number 3\n",
      "Processing file number 4\n",
      "Processing file number 5\n",
      "Processing file number 6\n",
      "Processing file number 7\n",
      "Processing file number 8\n",
      "Processing file number 9\n",
      "Finished processing 7 files\n",
      "Processing file number 17\n",
      "Finished processing 1 files\n",
      "Processing file number 11\n",
      "Finished processing 0 files\n",
      "Processing file number 10\n",
      "Finished processing 8 files\n",
      "Processing file number 18\n",
      "Finished processing 6 files\n",
      "Processing file number 16\n",
      "Finished processing 4 files\n",
      "Processing file number 14\n",
      "Finished processing 3 files\n",
      "Processing file number 13\n",
      "Finished processing 2 files\n",
      "Processing file number 12\n",
      "Finished processing 5 files\n",
      "Processing file number 15\n",
      "Finished processing 9 files\n",
      "Processing file number 19\n",
      "Finished processing 17 files\n",
      "Processing file number 27\n",
      "Finished processing 10 files\n",
      "Processing file number 20\n",
      "Finished processing 11 files\n",
      "Processing file number 21\n",
      "Finished processing 18 files\n",
      "Processing file number 28\n",
      "Finished processing 13 files\n",
      "Processing file number 23\n",
      "Finished processing 12 files\n",
      "Processing file number 22\n",
      "Finished processing 14 files\n",
      "Processing file number 24\n",
      "Finished processing 19 files\n",
      "Processing file number 29\n",
      "Finished processing 16 files\n",
      "Processing file number 26\n",
      "Finished processing 15 files\n",
      "Processing file number 25\n",
      "Finished processing 20 files\n",
      "Processing file number 30\n",
      "Finished processing 27 files\n",
      "Processing file number 37\n",
      "Finished processing 21 files\n",
      "Processing file number 31\n",
      "Finished processing 28 files\n",
      "Processing file number 38\n",
      "Finished processing 26 files\n",
      "Processing file number 36\n",
      "Finished processing 24 files\n",
      "Processing file number 34\n",
      "Finished processing 22 files\n",
      "Processing file number 32\n",
      "Finished processing 23 files\n",
      "Processing file number 33\n",
      "Finished processing 29 files\n",
      "Finished processing 25 files\n",
      "Processing file number 35\n",
      "Finished processing 37 files\n",
      "Finished processing 30 files\n",
      "Finished processing 32 files\n",
      "Finished processing 36 files\n",
      "Finished processing 38 files\n",
      "Finished processing 31 files\n",
      "Finished processing 34 files\n",
      "Finished processing 33 files\n",
      "Finished processing 35 files\n"
     ]
    },
    {
     "data": {
      "text/plain": [
       "<gn4pions.modules.data.GraphDataGenerator at 0x7fdaf0119f10>"
      ]
     },
     "execution_count": 4,
     "metadata": {},
     "output_type": "execute_result"
    }
   ],
   "source": [
    "GraphDataGenerator(pi0_file_list=None,\n",
    "    pion_file_list=pion_files,\n",
    "    cellGeo_file=\"/data/atlas/data/allCellTruthv1/pi0/user.mswiatlo.27153451.OutputStream._000001.root\",\n",
    "    batch_size=100, \n",
    "    shuffle=False,\n",
    "    num_procs=10,\n",
    "    preprocess=True,\n",
    "    output_dir=val_output_dir)"
   ]
  }
 ],
 "metadata": {
  "kernelspec": {
   "display_name": "Python 3",
   "language": "python",
   "name": "python3"
  },
  "orig_nbformat": 4,
  "vscode": {
   "interpreter": {
    "hash": "31f2aee4e71d21fbe5cf8b01ff0e069b9275f58929596ceb00d14d90e3e16cd6"
   }
  }
 },
 "nbformat": 4,
 "nbformat_minor": 2
}
